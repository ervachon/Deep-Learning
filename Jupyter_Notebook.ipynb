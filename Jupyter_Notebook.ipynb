{
  "nbformat": 4,
  "nbformat_minor": 0,
  "metadata": {
    "kernelspec": {
      "display_name": "Python 3",
      "language": "python",
      "name": "python3"
    },
    "language_info": {
      "codemirror_mode": {
        "name": "ipython",
        "version": 3
      },
      "file_extension": ".py",
      "mimetype": "text/x-python",
      "name": "python",
      "nbconvert_exporter": "python",
      "pygments_lexer": "ipython3",
      "version": "3.6.8"
    },
    "colab": {
      "name": "Jupyter_Notebook.ipynb",
      "provenance": [],
      "include_colab_link": true
    }
  },
  "cells": [
    {
      "cell_type": "markdown",
      "metadata": {
        "id": "view-in-github",
        "colab_type": "text"
      },
      "source": [
        "<a href=\"https://colab.research.google.com/github/ervachon/Deep-Learning/blob/main/Jupyter_Notebook.ipynb\" target=\"_parent\"><img src=\"https://colab.research.google.com/assets/colab-badge.svg\" alt=\"Open In Colab\"/></a>"
      ]
    },
    {
      "cell_type": "code",
      "metadata": {
        "colab": {
          "base_uri": "https://localhost:8080/",
          "height": 297
        },
        "id": "wX2YQ70YHObz",
        "outputId": "7bffcb55-d21b-4ae2-f928-7c9ecb5bc44d"
      },
      "source": [
        "%run note.py"
      ],
      "execution_count": null,
      "outputs": [
        {
          "output_type": "display_data",
          "data": {
            "image/png": "[encoded data removed]",
            "text/plain": [
              "<Figure size 432x288 with 1 Axes>"
            ]
          },
          "metadata": {
            "needs_background": "light"
          }
        },
        {
          "output_type": "display_data",
          "data": {
            "text/plain": [
              "<Figure size 432x288 with 0 Axes>"
            ]
          },
          "metadata": {}
        }
      ]
    },
    {
      "cell_type": "markdown",
      "metadata": {
        "id": "M6NrAyJm0Nm-"
      },
      "source": [
        "## Cellules de code\n",
        "\n",
        "Voici quelques exemples de cellules de code en Python"
      ]
    },
    {
      "cell_type": "code",
      "metadata": {
        "id": "Bl-F-Lbb0Nm_",
        "colab": {
          "base_uri": "https://localhost:8080/"
        },
        "outputId": "0b504d3e-4006-477c-f005-6f5b8eb1b9ed"
      },
      "source": [
        "print('Mon premier carnet !')"
      ],
      "execution_count": null,
      "outputs": [
        {
          "output_type": "stream",
          "name": "stdout",
          "text": [
            "Mon premier carnet !\n"
          ]
        }
      ]
    },
    {
      "cell_type": "code",
      "metadata": {
        "id": "ntT0HwLO0NnG",
        "colab": {
          "base_uri": "https://localhost:8080/"
        },
        "outputId": "c1aaf804-d9be-4716-807d-34483bceb4fc"
      },
      "source": [
        "def multiplication(x, y):\n",
        "    return(x*y)\n",
        "\n",
        "resultat = multiplication(2,4)\n",
        "print(resultat)"
      ],
      "execution_count": null,
      "outputs": [
        {
          "output_type": "stream",
          "name": "stdout",
          "text": [
            "8\n"
          ]
        }
      ]
    },
    {
      "cell_type": "markdown",
      "metadata": {
        "id": "Pgp4psHH0NnP"
      },
      "source": [
        "## Courbes\n",
        "\n",
        "Exemple d'utilisation de la librarie matplotlib pour afficher des courbes"
      ]
    },
    {
      "cell_type": "code",
      "metadata": {
        "id": "790C8MQf0NnQ",
        "colab": {
          "base_uri": "https://localhost:8080/"
        },
        "outputId": "d0830ad2-83ab-4f3d-e5c1-99eb4f6e7854"
      },
      "source": [
        "%%writefile note.py\n",
        "import math\n",
        "import matplotlib.pyplot as plt\n",
        "\n",
        "x = [0.1*i for i in range(64)]\n",
        "sin = [math.sin(i) for i in x]\n",
        "cos = [math.cos(i) for i in x]\n",
        "\n",
        "plt.plot(x, sin, label='sin(x)', color='blue', linewidth=2.5)\n",
        "plt.plot(x, cos, label='cos(x)', color='red', linewidth=0.5)\n",
        "plt.ylabel('y')\n",
        "plt.xlabel('x')\n",
        "plt.legend(loc='upper right')\n",
        "plt.show()\n"
      ],
      "execution_count": null,
      "outputs": [
        {
          "output_type": "stream",
          "name": "stdout",
          "text": [
            "Writing note.py\n"
          ]
        }
      ]
    },
    {
      "cell_type": "markdown",
      "metadata": {
        "id": "3EyOMzNB712H"
      },
      "source": [
        "## Notations Mathématiques\n",
        "\n",
        "Jupyter permet d'afficher des expressions mathématiques en utlisant le langage [LaTeX](https://en.wikibooks.org/wiki/LaTeX/Mathematics). Voici quelques exemples :\n",
        "\n",
        "$$ \\epsilon = \\frac{1}{m} \\sum_{i=1}^{m} (a x_i + b - y_i)^2$$\n",
        "\n",
        "$$e^{i x} = cos x + i sin x$$\n",
        "\n",
        "$$ \\begin{bmatrix}\n",
        "a \\\\\n",
        "b\n",
        "\\end{bmatrix} = (A^T A)^{-1} A^T y$$"
      ]
    },
    {
      "cell_type": "markdown",
      "metadata": {
        "id": "TJS4chvE0NnV"
      },
      "source": [
        "## Commandes système\n",
        "\n",
        "Jupyter permet d'utiliser des commandes système, appellées **magic commands**. Ces commandes peuvent être utilisées dans les cellules.\n",
        "\n",
        "La liste complète des commandes est [ici](https://ipython.readthedocs.io/en/stable/interactive/magics.html).\n",
        "\n",
        "* ```%system <command>``` or ```!<command>```\n",
        "  * Executes a system command\n",
        "* ```%run <file.py> [arguments]```\n",
        "  * Executes a python program\n",
        "* ```%time```\n",
        "  * Time execution of a cell\n",
        "* ```%whos```\n",
        "  * List all interactive variables\n",
        "* ```%load <file> or <url>```\n",
        "  * Loads this cell with contents of <file> or a <url>"
      ]
    },
    {
      "cell_type": "code",
      "metadata": {
        "colab": {
          "base_uri": "https://localhost:8080/"
        },
        "id": "2LcGjIFBGcME",
        "outputId": "c7c40b4e-edd0-4591-f402-3f71394ea58b"
      },
      "source": [
        "%whos"
      ],
      "execution_count": null,
      "outputs": [
        {
          "output_type": "stream",
          "name": "stdout",
          "text": [
            "Variable         Type        Data/Info\n",
            "--------------------------------------\n",
            "cos              list        n=64\n",
            "math             module      <module 'math' (built-in)>\n",
            "multiplication   function    <function multiplication at 0x7f93be19e5f0>\n",
            "plt              module      <module 'matplotlib.pyplo<...>es/matplotlib/pyplot.py'>\n",
            "resultat         int         8\n",
            "sin              list        n=64\n",
            "x                list        n=64\n"
          ]
        }
      ]
    },
    {
      "cell_type": "code",
      "metadata": {
        "colab": {
          "base_uri": "https://localhost:8080/"
        },
        "id": "oRWAOPw7GpxR",
        "outputId": "af39ae38-f133-4638-ffdf-2a2eafbefbe5"
      },
      "source": [
        "%time"
      ],
      "execution_count": null,
      "outputs": [
        {
          "output_type": "stream",
          "name": "stdout",
          "text": [
            "CPU times: user 3 µs, sys: 0 ns, total: 3 µs\n",
            "Wall time: 7.39 µs\n"
          ]
        }
      ]
    },
    {
      "cell_type": "code",
      "metadata": {
        "id": "-gfOppzuGrhA"
      },
      "source": [
        ""
      ],
      "execution_count": null,
      "outputs": []
    }
  ]
}